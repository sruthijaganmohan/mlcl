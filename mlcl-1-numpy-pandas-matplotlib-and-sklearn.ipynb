{
 "cells": [
  {
   "cell_type": "code",
   "execution_count": 1,
   "id": "5eab713d",
   "metadata": {
    "_cell_guid": "b1076dfc-b9ad-4769-8c92-a6c4dae69d19",
    "_uuid": "8f2839f25d086af736a60e9eeb907d3b93b6e0e5",
    "execution": {
     "iopub.execute_input": "2022-04-16T17:07:32.784752Z",
     "iopub.status.busy": "2022-04-16T17:07:32.778625Z",
     "iopub.status.idle": "2022-04-16T17:07:32.798247Z",
     "shell.execute_reply": "2022-04-16T17:07:32.797447Z",
     "shell.execute_reply.started": "2022-03-29T04:12:13.611473Z"
    },
    "papermill": {
     "duration": 0.073448,
     "end_time": "2022-04-16T17:07:32.798460",
     "exception": false,
     "start_time": "2022-04-16T17:07:32.725012",
     "status": "completed"
    },
    "tags": []
   },
   "outputs": [
    {
     "name": "stdout",
     "output_type": "stream",
     "text": [
      "/kaggle/input/california-housing-prices/housing.csv\n"
     ]
    }
   ],
   "source": [
    "# This Python 3 environment comes with many helpful analytics libraries installed\n",
    "# It is defined by the kaggle/python Docker image: https://github.com/kaggle/docker-python\n",
    "# For example, here's several helpful packages to load\n",
    "\n",
    "import numpy as np # linear algebra\n",
    "import pandas as pd # data processing, CSV file I/O (e.g. pd.read_csv)\n",
    "import matplotlib.pyplot as plt \n",
    "\n",
    "# Input data files are available in the read-only \"../input/\" directory\n",
    "# For example, running this (by clicking run or pressing Shift+Enter) will list all files under the input directory\n",
    "\n",
    "import os\n",
    "for dirname, _, filenames in os.walk('/kaggle/input'):\n",
    "    for filename in filenames:\n",
    "        print(os.path.join(dirname, filename))\n",
    "\n",
    "# You can write up to 20GB to the current directory (/kaggle/working/) that gets preserved as output when you create a version using \"Save & Run All\" \n",
    "# You can also write temporary files to /kaggle/temp/, but they won't be saved outside of the current session"
   ]
  },
  {
   "cell_type": "markdown",
   "id": "203034e3",
   "metadata": {
    "papermill": {
     "duration": 0.044642,
     "end_time": "2022-04-16T17:07:32.889099",
     "exception": false,
     "start_time": "2022-04-16T17:07:32.844457",
     "status": "completed"
    },
    "tags": []
   },
   "source": [
    "**Numpy**"
   ]
  },
  {
   "cell_type": "code",
   "execution_count": 2,
   "id": "66053123",
   "metadata": {
    "execution": {
     "iopub.execute_input": "2022-04-16T17:07:32.979435Z",
     "iopub.status.busy": "2022-04-16T17:07:32.978678Z",
     "iopub.status.idle": "2022-04-16T17:07:32.991545Z",
     "shell.execute_reply": "2022-04-16T17:07:32.992069Z",
     "shell.execute_reply.started": "2022-03-29T04:12:13.628496Z"
    },
    "papermill": {
     "duration": 0.060467,
     "end_time": "2022-04-16T17:07:32.992238",
     "exception": false,
     "start_time": "2022-04-16T17:07:32.931771",
     "status": "completed"
    },
    "tags": []
   },
   "outputs": [
    {
     "data": {
      "text/plain": [
       "array([1, 2, 3, 4, 5])"
      ]
     },
     "execution_count": 2,
     "metadata": {},
     "output_type": "execute_result"
    }
   ],
   "source": [
    "# creating a 1D numpy array\n",
    "a = np.array([1, 2, 3, 4, 5])\n",
    "a"
   ]
  },
  {
   "cell_type": "code",
   "execution_count": 3,
   "id": "60400966",
   "metadata": {
    "execution": {
     "iopub.execute_input": "2022-04-16T17:07:33.089071Z",
     "iopub.status.busy": "2022-04-16T17:07:33.088044Z",
     "iopub.status.idle": "2022-04-16T17:07:33.093396Z",
     "shell.execute_reply": "2022-04-16T17:07:33.093855Z",
     "shell.execute_reply.started": "2022-03-29T04:12:13.639984Z"
    },
    "papermill": {
     "duration": 0.057313,
     "end_time": "2022-04-16T17:07:33.094038",
     "exception": false,
     "start_time": "2022-04-16T17:07:33.036725",
     "status": "completed"
    },
    "tags": []
   },
   "outputs": [
    {
     "data": {
      "text/plain": [
       "1"
      ]
     },
     "execution_count": 3,
     "metadata": {},
     "output_type": "execute_result"
    }
   ],
   "source": [
    "# array dimensions\n",
    "a.ndim"
   ]
  },
  {
   "cell_type": "code",
   "execution_count": 4,
   "id": "4337abb2",
   "metadata": {
    "execution": {
     "iopub.execute_input": "2022-04-16T17:07:33.197375Z",
     "iopub.status.busy": "2022-04-16T17:07:33.196494Z",
     "iopub.status.idle": "2022-04-16T17:07:33.201587Z",
     "shell.execute_reply": "2022-04-16T17:07:33.201059Z",
     "shell.execute_reply.started": "2022-03-29T04:12:13.973896Z"
    },
    "papermill": {
     "duration": 0.062355,
     "end_time": "2022-04-16T17:07:33.201732",
     "exception": false,
     "start_time": "2022-04-16T17:07:33.139377",
     "status": "completed"
    },
    "tags": []
   },
   "outputs": [
    {
     "data": {
      "text/plain": [
       "array([[1.5, 2. , 3. ],\n",
       "       [4. , 5. , 6. ]])"
      ]
     },
     "execution_count": 4,
     "metadata": {},
     "output_type": "execute_result"
    }
   ],
   "source": [
    "# creating a 2D numpy array\n",
    "b = np.array([(1.5, 2, 3), (4, 5, 6)], dtype=float)\n",
    "b"
   ]
  },
  {
   "cell_type": "code",
   "execution_count": 5,
   "id": "299fa5ed",
   "metadata": {
    "execution": {
     "iopub.execute_input": "2022-04-16T17:07:33.297283Z",
     "iopub.status.busy": "2022-04-16T17:07:33.296450Z",
     "iopub.status.idle": "2022-04-16T17:07:33.300810Z",
     "shell.execute_reply": "2022-04-16T17:07:33.300292Z",
     "shell.execute_reply.started": "2022-03-29T04:12:13.98292Z"
    },
    "papermill": {
     "duration": 0.054633,
     "end_time": "2022-04-16T17:07:33.300951",
     "exception": false,
     "start_time": "2022-04-16T17:07:33.246318",
     "status": "completed"
    },
    "tags": []
   },
   "outputs": [
    {
     "data": {
      "text/plain": [
       "2"
      ]
     },
     "execution_count": 5,
     "metadata": {},
     "output_type": "execute_result"
    }
   ],
   "source": [
    "b.ndim"
   ]
  },
  {
   "cell_type": "code",
   "execution_count": 6,
   "id": "2d342033",
   "metadata": {
    "execution": {
     "iopub.execute_input": "2022-04-16T17:07:33.397945Z",
     "iopub.status.busy": "2022-04-16T17:07:33.397045Z",
     "iopub.status.idle": "2022-04-16T17:07:33.400757Z",
     "shell.execute_reply": "2022-04-16T17:07:33.400243Z",
     "shell.execute_reply.started": "2022-03-29T04:12:13.994009Z"
    },
    "papermill": {
     "duration": 0.055225,
     "end_time": "2022-04-16T17:07:33.400905",
     "exception": false,
     "start_time": "2022-04-16T17:07:33.345680",
     "status": "completed"
    },
    "tags": []
   },
   "outputs": [
    {
     "data": {
      "text/plain": [
       "array([[[1.4, 3. , 5. ],\n",
       "        [2.5, 5. , 1. ]],\n",
       "\n",
       "       [[1. , 4. , 6.1],\n",
       "        [2. , 4. , 5. ]]])"
      ]
     },
     "execution_count": 6,
     "metadata": {},
     "output_type": "execute_result"
    }
   ],
   "source": [
    "# creating a 3D numpy array\n",
    "c = np.array([[(1.4, 3, 5), (2.5, 5, 1)], [(1, 4, 6.1), (2, 4, 5)]], dtype=float)\n",
    "c"
   ]
  },
  {
   "cell_type": "code",
   "execution_count": 7,
   "id": "1434f26c",
   "metadata": {
    "execution": {
     "iopub.execute_input": "2022-04-16T17:07:33.496592Z",
     "iopub.status.busy": "2022-04-16T17:07:33.495852Z",
     "iopub.status.idle": "2022-04-16T17:07:33.500083Z",
     "shell.execute_reply": "2022-04-16T17:07:33.499479Z",
     "shell.execute_reply.started": "2022-03-29T04:12:14.007032Z"
    },
    "papermill": {
     "duration": 0.054203,
     "end_time": "2022-04-16T17:07:33.500234",
     "exception": false,
     "start_time": "2022-04-16T17:07:33.446031",
     "status": "completed"
    },
    "tags": []
   },
   "outputs": [
    {
     "data": {
      "text/plain": [
       "3"
      ]
     },
     "execution_count": 7,
     "metadata": {},
     "output_type": "execute_result"
    }
   ],
   "source": [
    "c.ndim"
   ]
  },
  {
   "cell_type": "code",
   "execution_count": 8,
   "id": "11801a5e",
   "metadata": {
    "execution": {
     "iopub.execute_input": "2022-04-16T17:07:33.606307Z",
     "iopub.status.busy": "2022-04-16T17:07:33.605637Z",
     "iopub.status.idle": "2022-04-16T17:07:33.613582Z",
     "shell.execute_reply": "2022-04-16T17:07:33.614222Z",
     "shell.execute_reply.started": "2022-03-29T04:12:14.616565Z"
    },
    "papermill": {
     "duration": 0.061468,
     "end_time": "2022-04-16T17:07:33.614442",
     "exception": false,
     "start_time": "2022-04-16T17:07:33.552974",
     "status": "completed"
    },
    "tags": []
   },
   "outputs": [
    {
     "data": {
      "text/plain": [
       "array([[0., 0., 0., 0.],\n",
       "       [0., 0., 0., 0.],\n",
       "       [0., 0., 0., 0.]])"
      ]
     },
     "execution_count": 8,
     "metadata": {},
     "output_type": "execute_result"
    }
   ],
   "source": [
    "# creating a numpy array consisting of 0's\n",
    "z = np.zeros((3, 4))\n",
    "z"
   ]
  },
  {
   "cell_type": "code",
   "execution_count": 9,
   "id": "835bb9bd",
   "metadata": {
    "execution": {
     "iopub.execute_input": "2022-04-16T17:07:33.736952Z",
     "iopub.status.busy": "2022-04-16T17:07:33.735933Z",
     "iopub.status.idle": "2022-04-16T17:07:33.739623Z",
     "shell.execute_reply": "2022-04-16T17:07:33.740306Z",
     "shell.execute_reply.started": "2022-03-29T04:12:14.626298Z"
    },
    "papermill": {
     "duration": 0.066593,
     "end_time": "2022-04-16T17:07:33.740546",
     "exception": false,
     "start_time": "2022-04-16T17:07:33.673953",
     "status": "completed"
    },
    "tags": []
   },
   "outputs": [
    {
     "data": {
      "text/plain": [
       "array([[[1., 1., 1., 1.],\n",
       "        [1., 1., 1., 1.],\n",
       "        [1., 1., 1., 1.]],\n",
       "\n",
       "       [[1., 1., 1., 1.],\n",
       "        [1., 1., 1., 1.],\n",
       "        [1., 1., 1., 1.]]])"
      ]
     },
     "execution_count": 9,
     "metadata": {},
     "output_type": "execute_result"
    }
   ],
   "source": [
    "# creating a numpy array consisting of 1's\n",
    "o = np.ones((2, 3, 4))\n",
    "o"
   ]
  },
  {
   "cell_type": "code",
   "execution_count": 10,
   "id": "9fb0e8f6",
   "metadata": {
    "execution": {
     "iopub.execute_input": "2022-04-16T17:07:33.895635Z",
     "iopub.status.busy": "2022-04-16T17:07:33.894792Z",
     "iopub.status.idle": "2022-04-16T17:07:33.898525Z",
     "shell.execute_reply": "2022-04-16T17:07:33.899000Z",
     "shell.execute_reply.started": "2022-03-29T04:12:14.637706Z"
    },
    "papermill": {
     "duration": 0.079698,
     "end_time": "2022-04-16T17:07:33.899166",
     "exception": false,
     "start_time": "2022-04-16T17:07:33.819468",
     "status": "completed"
    },
    "tags": []
   },
   "outputs": [
    {
     "data": {
      "text/plain": [
       "3"
      ]
     },
     "execution_count": 10,
     "metadata": {},
     "output_type": "execute_result"
    }
   ],
   "source": [
    "o.ndim"
   ]
  },
  {
   "cell_type": "code",
   "execution_count": 11,
   "id": "60780ce2",
   "metadata": {
    "execution": {
     "iopub.execute_input": "2022-04-16T17:07:33.995903Z",
     "iopub.status.busy": "2022-04-16T17:07:33.995210Z",
     "iopub.status.idle": "2022-04-16T17:07:34.069047Z",
     "shell.execute_reply": "2022-04-16T17:07:34.067855Z",
     "shell.execute_reply.started": "2022-03-29T04:12:14.652225Z"
    },
    "papermill": {
     "duration": 0.122629,
     "end_time": "2022-04-16T17:07:34.069365",
     "exception": true,
     "start_time": "2022-04-16T17:07:33.946736",
     "status": "failed"
    },
    "tags": []
   },
   "outputs": [
    {
     "ename": "AttributeError",
     "evalue": "module 'numpy' has no attribute 'arrange'",
     "output_type": "error",
     "traceback": [
      "\u001b[0;31m---------------------------------------------------------------------------\u001b[0m",
      "\u001b[0;31mAttributeError\u001b[0m                            Traceback (most recent call last)",
      "\u001b[0;32m/tmp/ipykernel_19/3578469070.py\u001b[0m in \u001b[0;36m<module>\u001b[0;34m\u001b[0m\n\u001b[1;32m      1\u001b[0m \u001b[0;31m# creating an evenly spaced array with regular intervals\u001b[0m\u001b[0;34m\u001b[0m\u001b[0;34m\u001b[0m\u001b[0;34m\u001b[0m\u001b[0m\n\u001b[0;32m----> 2\u001b[0;31m \u001b[0md\u001b[0m \u001b[0;34m=\u001b[0m \u001b[0mnp\u001b[0m\u001b[0;34m.\u001b[0m\u001b[0marrange\u001b[0m\u001b[0;34m(\u001b[0m\u001b[0;36m10\u001b[0m\u001b[0;34m,\u001b[0m \u001b[0;36m25\u001b[0m\u001b[0;34m,\u001b[0m \u001b[0;36m5\u001b[0m\u001b[0;34m)\u001b[0m\u001b[0;34m\u001b[0m\u001b[0;34m\u001b[0m\u001b[0m\n\u001b[0m\u001b[1;32m      3\u001b[0m \u001b[0md\u001b[0m\u001b[0;34m\u001b[0m\u001b[0;34m\u001b[0m\u001b[0m\n",
      "\u001b[0;32m/opt/conda/lib/python3.7/site-packages/numpy/__init__.py\u001b[0m in \u001b[0;36m__getattr__\u001b[0;34m(attr)\u001b[0m\n\u001b[1;32m    302\u001b[0m \u001b[0;34m\u001b[0m\u001b[0m\n\u001b[1;32m    303\u001b[0m             raise AttributeError(\"module {!r} has no attribute \"\n\u001b[0;32m--> 304\u001b[0;31m                                  \"{!r}\".format(__name__, attr))\n\u001b[0m\u001b[1;32m    305\u001b[0m \u001b[0;34m\u001b[0m\u001b[0m\n\u001b[1;32m    306\u001b[0m         \u001b[0;32mdef\u001b[0m \u001b[0m__dir__\u001b[0m\u001b[0;34m(\u001b[0m\u001b[0;34m)\u001b[0m\u001b[0;34m:\u001b[0m\u001b[0;34m\u001b[0m\u001b[0;34m\u001b[0m\u001b[0m\n",
      "\u001b[0;31mAttributeError\u001b[0m: module 'numpy' has no attribute 'arrange'"
     ]
    }
   ],
   "source": [
    "# creating an evenly spaced array with regular intervals\n",
    "d = np.arrange(10, 25, 5)\n",
    "d"
   ]
  },
  {
   "cell_type": "code",
   "execution_count": null,
   "id": "4f3cb4b8",
   "metadata": {
    "execution": {
     "iopub.status.busy": "2022-03-29T04:12:14.720198Z",
     "iopub.status.idle": "2022-03-29T04:12:14.720873Z",
     "shell.execute_reply": "2022-03-29T04:12:14.720632Z",
     "shell.execute_reply.started": "2022-03-29T04:12:14.720604Z"
    },
    "papermill": {
     "duration": null,
     "end_time": null,
     "exception": null,
     "start_time": null,
     "status": "pending"
    },
    "tags": []
   },
   "outputs": [],
   "source": [
    "# create an evenly spaced sequence with regular intervals\n",
    "lp = np.linespace(0, 2, 9)\n",
    "lp"
   ]
  },
  {
   "cell_type": "code",
   "execution_count": null,
   "id": "5d9e3eb2",
   "metadata": {
    "execution": {
     "iopub.execute_input": "2022-03-29T04:12:15.233171Z",
     "iopub.status.busy": "2022-03-29T04:12:15.232884Z",
     "iopub.status.idle": "2022-03-29T04:12:15.238883Z",
     "shell.execute_reply": "2022-03-29T04:12:15.238102Z",
     "shell.execute_reply.started": "2022-03-29T04:12:15.233125Z"
    },
    "papermill": {
     "duration": null,
     "end_time": null,
     "exception": null,
     "start_time": null,
     "status": "pending"
    },
    "tags": []
   },
   "outputs": [],
   "source": [
    "# create an array with 1's on the diagonal and 0's elsewhere\n",
    "f = np.eye(2)\n",
    "f"
   ]
  },
  {
   "cell_type": "code",
   "execution_count": null,
   "id": "30ef31f6",
   "metadata": {
    "execution": {
     "iopub.execute_input": "2022-03-29T04:12:15.241145Z",
     "iopub.status.busy": "2022-03-29T04:12:15.240674Z",
     "iopub.status.idle": "2022-03-29T04:12:15.250809Z",
     "shell.execute_reply": "2022-03-29T04:12:15.249976Z",
     "shell.execute_reply.started": "2022-03-29T04:12:15.241104Z"
    },
    "papermill": {
     "duration": null,
     "end_time": null,
     "exception": null,
     "start_time": null,
     "status": "pending"
    },
    "tags": []
   },
   "outputs": [],
   "source": [
    "# create an array of given shape with random values\n",
    "e = np.empty((3, 2))\n",
    "e"
   ]
  },
  {
   "cell_type": "code",
   "execution_count": null,
   "id": "3e54f6a7",
   "metadata": {
    "execution": {
     "iopub.execute_input": "2022-03-29T04:12:15.82146Z",
     "iopub.status.busy": "2022-03-29T04:12:15.820538Z",
     "iopub.status.idle": "2022-03-29T04:12:15.829057Z",
     "shell.execute_reply": "2022-03-29T04:12:15.828125Z",
     "shell.execute_reply.started": "2022-03-29T04:12:15.821407Z"
    },
    "papermill": {
     "duration": null,
     "end_time": null,
     "exception": null,
     "start_time": null,
     "status": "pending"
    },
    "tags": []
   },
   "outputs": [],
   "source": [
    "# create an array with random values\n",
    "r = np.random.random((2, 2))\n",
    "r"
   ]
  },
  {
   "cell_type": "code",
   "execution_count": null,
   "id": "004b466a",
   "metadata": {
    "execution": {
     "iopub.execute_input": "2022-03-29T04:12:15.831355Z",
     "iopub.status.busy": "2022-03-29T04:12:15.83079Z",
     "iopub.status.idle": "2022-03-29T04:12:15.839838Z",
     "shell.execute_reply": "2022-03-29T04:12:15.838895Z",
     "shell.execute_reply.started": "2022-03-29T04:12:15.831265Z"
    },
    "papermill": {
     "duration": null,
     "end_time": null,
     "exception": null,
     "start_time": null,
     "status": "pending"
    },
    "tags": []
   },
   "outputs": [],
   "source": [
    "z = e.astype(int)\n",
    "z.dtype"
   ]
  },
  {
   "cell_type": "code",
   "execution_count": null,
   "id": "7f5a6d15",
   "metadata": {
    "execution": {
     "iopub.execute_input": "2022-03-29T04:12:15.841487Z",
     "iopub.status.busy": "2022-03-29T04:12:15.840896Z",
     "iopub.status.idle": "2022-03-29T04:12:15.857083Z",
     "shell.execute_reply": "2022-03-29T04:12:15.856249Z",
     "shell.execute_reply.started": "2022-03-29T04:12:15.841447Z"
    },
    "papermill": {
     "duration": null,
     "end_time": null,
     "exception": null,
     "start_time": null,
     "status": "pending"
    },
    "tags": []
   },
   "outputs": [],
   "source": [
    "# operations on a numpy array\n",
    "s = np.array([(1, 2, 3.1), (3, 5, 2.8)], dtype=float)\n",
    "print(s)\n",
    "print(s.shape)\n",
    "print(len(s))\n",
    "print(s.ndim)\n",
    "print(s.dtype.name)\n",
    "s = s.astype(int)\n",
    "print(s.dtype.name)\n",
    "print(np.sum(s))\n",
    "print(np.min(s))\n",
    "print(np.max(s))\n",
    "print(np.max(s, axis=0))\n",
    "print(np.min(s, axis=1))\n",
    "print(s.cumsum(axis=1))\n",
    "print(np.mean(s))\n",
    "print(np.median(s))\n",
    "print(np.std(s))\n",
    "print(np.transpose(s))\n",
    "print(s.ravel())"
   ]
  },
  {
   "cell_type": "code",
   "execution_count": null,
   "id": "9dc540be",
   "metadata": {
    "execution": {
     "iopub.execute_input": "2022-03-29T04:12:15.859678Z",
     "iopub.status.busy": "2022-03-29T04:12:15.859054Z",
     "iopub.status.idle": "2022-03-29T04:12:15.874268Z",
     "shell.execute_reply": "2022-03-29T04:12:15.873353Z",
     "shell.execute_reply.started": "2022-03-29T04:12:15.859624Z"
    },
    "papermill": {
     "duration": null,
     "end_time": null,
     "exception": null,
     "start_time": null,
     "status": "pending"
    },
    "tags": []
   },
   "outputs": [],
   "source": [
    "# change the shape of an array\n",
    "b.reshape(2, 3)"
   ]
  },
  {
   "cell_type": "code",
   "execution_count": null,
   "id": "a17f7977",
   "metadata": {
    "execution": {
     "iopub.execute_input": "2022-03-29T04:12:15.876036Z",
     "iopub.status.busy": "2022-03-29T04:12:15.875636Z",
     "iopub.status.idle": "2022-03-29T04:12:15.887131Z",
     "shell.execute_reply": "2022-03-29T04:12:15.886231Z",
     "shell.execute_reply.started": "2022-03-29T04:12:15.875992Z"
    },
    "papermill": {
     "duration": null,
     "end_time": null,
     "exception": null,
     "start_time": null,
     "status": "pending"
    },
    "tags": []
   },
   "outputs": [],
   "source": [
    "# vertically stack arrays\n",
    "y = np.array([1, 2, 3])\n",
    "t = np.vstack((y, b))\n",
    "t"
   ]
  },
  {
   "cell_type": "markdown",
   "id": "027a35f7",
   "metadata": {
    "papermill": {
     "duration": null,
     "end_time": null,
     "exception": null,
     "start_time": null,
     "status": "pending"
    },
    "tags": []
   },
   "source": [
    "**Sklearn**"
   ]
  },
  {
   "cell_type": "code",
   "execution_count": null,
   "id": "93440c6a",
   "metadata": {
    "execution": {
     "iopub.execute_input": "2022-03-29T04:12:15.888877Z",
     "iopub.status.busy": "2022-03-29T04:12:15.888291Z",
     "iopub.status.idle": "2022-03-29T04:12:17.36083Z",
     "shell.execute_reply": "2022-03-29T04:12:17.359976Z",
     "shell.execute_reply.started": "2022-03-29T04:12:15.888833Z"
    },
    "papermill": {
     "duration": null,
     "end_time": null,
     "exception": null,
     "start_time": null,
     "status": "pending"
    },
    "tags": []
   },
   "outputs": [],
   "source": [
    "# preprocessing\n",
    "from sklearn import preprocessing, datasets\n",
    "from sklearn.model_selection import train_test_split\n",
    "from sklearn.metrics import accuracy_score, confusion_matrix\n",
    "from sklearn.preprocessing import StandardScaler\n",
    "from sklearn.preprocessing import Normalizer\n",
    "# labelencoder or onehot encoder\n",
    "from sklearn.preprocessing import LabelEncoder\n",
    "# supervised\n",
    "from sklearn.linear_model import LinearRegression\n",
    "from sklearn.neural_network import MLPClassifier, MLPRegressor\n",
    "from sklearn.svm import SVC, SVR\n",
    "from sklearn.naive_bayes import GaussianNB\n",
    "from sklearn.neighbors import NearestNeighbors\n",
    "from sklearn.tree import DecisionTreeClassifier, DecisionTreeRegressor\n",
    "# unsupervised\n",
    "from sklearn.cluster import KMeans\n",
    "from sklearn.decomposition import PCA"
   ]
  },
  {
   "cell_type": "code",
   "execution_count": null,
   "id": "b1aa89f7",
   "metadata": {
    "execution": {
     "iopub.execute_input": "2022-03-29T04:12:17.362363Z",
     "iopub.status.busy": "2022-03-29T04:12:17.361965Z",
     "iopub.status.idle": "2022-03-29T04:12:17.369393Z",
     "shell.execute_reply": "2022-03-29T04:12:17.368497Z",
     "shell.execute_reply.started": "2022-03-29T04:12:17.362292Z"
    },
    "papermill": {
     "duration": null,
     "end_time": null,
     "exception": null,
     "start_time": null,
     "status": "pending"
    },
    "tags": []
   },
   "outputs": [],
   "source": [
    "# create an input array X with random values\n",
    "X = np.random.random((10, 5,))\n",
    "X"
   ]
  },
  {
   "cell_type": "code",
   "execution_count": null,
   "id": "abc83759",
   "metadata": {
    "execution": {
     "iopub.execute_input": "2022-03-29T04:12:17.371525Z",
     "iopub.status.busy": "2022-03-29T04:12:17.370688Z",
     "iopub.status.idle": "2022-03-29T04:12:17.381145Z",
     "shell.execute_reply": "2022-03-29T04:12:17.380114Z",
     "shell.execute_reply.started": "2022-03-29T04:12:17.371476Z"
    },
    "papermill": {
     "duration": null,
     "end_time": null,
     "exception": null,
     "start_time": null,
     "status": "pending"
    },
    "tags": []
   },
   "outputs": [],
   "source": [
    "# output labels\n",
    "y = np.array(['M', 'M', 'F', 'M', 'F', 'F', 'F', 'M', 'F', 'M'])"
   ]
  },
  {
   "cell_type": "code",
   "execution_count": null,
   "id": "8a142063",
   "metadata": {
    "execution": {
     "iopub.execute_input": "2022-03-29T04:12:17.382854Z",
     "iopub.status.busy": "2022-03-29T04:12:17.382432Z",
     "iopub.status.idle": "2022-03-29T04:12:17.396822Z",
     "shell.execute_reply": "2022-03-29T04:12:17.395816Z",
     "shell.execute_reply.started": "2022-03-29T04:12:17.382807Z"
    },
    "papermill": {
     "duration": null,
     "end_time": null,
     "exception": null,
     "start_time": null,
     "status": "pending"
    },
    "tags": []
   },
   "outputs": [],
   "source": [
    "# if values in X are less than 0.7 set them to 0\n",
    "X[X<0.7] = 0\n",
    "X"
   ]
  },
  {
   "cell_type": "code",
   "execution_count": null,
   "id": "531972cb",
   "metadata": {
    "execution": {
     "iopub.execute_input": "2022-03-29T04:12:17.399824Z",
     "iopub.status.busy": "2022-03-29T04:12:17.399561Z",
     "iopub.status.idle": "2022-03-29T04:12:17.408999Z",
     "shell.execute_reply": "2022-03-29T04:12:17.408354Z",
     "shell.execute_reply.started": "2022-03-29T04:12:17.399794Z"
    },
    "papermill": {
     "duration": null,
     "end_time": null,
     "exception": null,
     "start_time": null,
     "status": "pending"
    },
    "tags": []
   },
   "outputs": [],
   "source": [
    "# convert output labels to numeric form\n",
    "lbn = LabelEncoder()\n",
    "y = lbn.fit_transform(y)"
   ]
  },
  {
   "cell_type": "code",
   "execution_count": null,
   "id": "0cd5d65f",
   "metadata": {
    "execution": {
     "iopub.execute_input": "2022-03-29T04:12:17.41059Z",
     "iopub.status.busy": "2022-03-29T04:12:17.410137Z",
     "iopub.status.idle": "2022-03-29T04:12:17.422244Z",
     "shell.execute_reply": "2022-03-29T04:12:17.421478Z",
     "shell.execute_reply.started": "2022-03-29T04:12:17.410548Z"
    },
    "papermill": {
     "duration": null,
     "end_time": null,
     "exception": null,
     "start_time": null,
     "status": "pending"
    },
    "tags": []
   },
   "outputs": [],
   "source": [
    "# split the data into training and testing data (training data size=80%, testing data size=20%)\n",
    "X_train, X_test, y_train, y_test = train_test_split(X, y, test_size=0.2, random_state=0)"
   ]
  },
  {
   "cell_type": "code",
   "execution_count": null,
   "id": "5ae5ba72",
   "metadata": {
    "execution": {
     "iopub.execute_input": "2022-03-29T04:12:17.424329Z",
     "iopub.status.busy": "2022-03-29T04:12:17.423379Z",
     "iopub.status.idle": "2022-03-29T04:12:17.437066Z",
     "shell.execute_reply": "2022-03-29T04:12:17.436064Z",
     "shell.execute_reply.started": "2022-03-29T04:12:17.42428Z"
    },
    "papermill": {
     "duration": null,
     "end_time": null,
     "exception": null,
     "start_time": null,
     "status": "pending"
    },
    "tags": []
   },
   "outputs": [],
   "source": [
    "print(f\"X Training data shape: {X_train.shape}\")\n",
    "print(f\"X Testing data shape: {X_test.shape}\")\n",
    "print(f\"y Training data shape: {y_train.shape}\")\n",
    "print(f\"y Testing data shape: {y_test.shape}\")"
   ]
  },
  {
   "cell_type": "code",
   "execution_count": null,
   "id": "0984c771",
   "metadata": {
    "execution": {
     "iopub.execute_input": "2022-03-29T04:12:17.438844Z",
     "iopub.status.busy": "2022-03-29T04:12:17.438503Z",
     "iopub.status.idle": "2022-03-29T04:12:17.44777Z",
     "shell.execute_reply": "2022-03-29T04:12:17.446824Z",
     "shell.execute_reply.started": "2022-03-29T04:12:17.438802Z"
    },
    "papermill": {
     "duration": null,
     "end_time": null,
     "exception": null,
     "start_time": null,
     "status": "pending"
    },
    "tags": []
   },
   "outputs": [],
   "source": [
    "scaler = StandardScaler()"
   ]
  },
  {
   "cell_type": "code",
   "execution_count": null,
   "id": "74ed6d0a",
   "metadata": {
    "execution": {
     "iopub.execute_input": "2022-03-29T04:12:17.450528Z",
     "iopub.status.busy": "2022-03-29T04:12:17.44904Z",
     "iopub.status.idle": "2022-03-29T04:12:17.46688Z",
     "shell.execute_reply": "2022-03-29T04:12:17.465796Z",
     "shell.execute_reply.started": "2022-03-29T04:12:17.45048Z"
    },
    "papermill": {
     "duration": null,
     "end_time": null,
     "exception": null,
     "start_time": null,
     "status": "pending"
    },
    "tags": []
   },
   "outputs": [],
   "source": [
    "# centering the values around the mean\n",
    "X_std = scaler.fit_transform(X_train)\n",
    "X_test_std = scaler.fit_transform(X_test)\n",
    "print(X_std.mean())"
   ]
  },
  {
   "cell_type": "code",
   "execution_count": null,
   "id": "c76aa712",
   "metadata": {
    "execution": {
     "iopub.execute_input": "2022-03-29T04:12:17.46923Z",
     "iopub.status.busy": "2022-03-29T04:12:17.468677Z",
     "iopub.status.idle": "2022-03-29T04:12:17.477698Z",
     "shell.execute_reply": "2022-03-29T04:12:17.477061Z",
     "shell.execute_reply.started": "2022-03-29T04:12:17.469133Z"
    },
    "papermill": {
     "duration": null,
     "end_time": null,
     "exception": null,
     "start_time": null,
     "status": "pending"
    },
    "tags": []
   },
   "outputs": [],
   "source": [
    "normal = Normalizer()"
   ]
  },
  {
   "cell_type": "code",
   "execution_count": null,
   "id": "edd0a9c8",
   "metadata": {
    "execution": {
     "iopub.execute_input": "2022-03-29T04:12:17.47967Z",
     "iopub.status.busy": "2022-03-29T04:12:17.479092Z",
     "iopub.status.idle": "2022-03-29T04:12:17.491008Z",
     "shell.execute_reply": "2022-03-29T04:12:17.490194Z",
     "shell.execute_reply.started": "2022-03-29T04:12:17.479626Z"
    },
    "papermill": {
     "duration": null,
     "end_time": null,
     "exception": null,
     "start_time": null,
     "status": "pending"
    },
    "tags": []
   },
   "outputs": [],
   "source": [
    "# rescaling values to the range between 0 and 1\n",
    "normal_X = normal.fit_transform(X_train)\n",
    "normal_X_test = normal.transform(X_test)"
   ]
  },
  {
   "cell_type": "code",
   "execution_count": null,
   "id": "b900dd04",
   "metadata": {
    "execution": {
     "iopub.execute_input": "2022-03-29T04:12:17.492404Z",
     "iopub.status.busy": "2022-03-29T04:12:17.492147Z",
     "iopub.status.idle": "2022-03-29T04:12:17.603695Z",
     "shell.execute_reply": "2022-03-29T04:12:17.602887Z",
     "shell.execute_reply.started": "2022-03-29T04:12:17.492376Z"
    },
    "papermill": {
     "duration": null,
     "end_time": null,
     "exception": null,
     "start_time": null,
     "status": "pending"
    },
    "tags": []
   },
   "outputs": [],
   "source": [
    "# training the MLP classifier model\n",
    "mlp = MLPClassifier()\n",
    "mlp.fit(X_std, y_train)\n",
    "y_pred = mlp.predict(X_test_std)"
   ]
  },
  {
   "cell_type": "code",
   "execution_count": null,
   "id": "0fabe22d",
   "metadata": {
    "execution": {
     "iopub.execute_input": "2022-03-29T04:12:17.605295Z",
     "iopub.status.busy": "2022-03-29T04:12:17.604959Z",
     "iopub.status.idle": "2022-03-29T04:12:17.611812Z",
     "shell.execute_reply": "2022-03-29T04:12:17.610973Z",
     "shell.execute_reply.started": "2022-03-29T04:12:17.605261Z"
    },
    "papermill": {
     "duration": null,
     "end_time": null,
     "exception": null,
     "start_time": null,
     "status": "pending"
    },
    "tags": []
   },
   "outputs": [],
   "source": [
    "# evaluate the model\n",
    "print(mlp.score(X_test_std, y_test))\n",
    "print(y_pred)"
   ]
  },
  {
   "cell_type": "markdown",
   "id": "da932a04",
   "metadata": {
    "papermill": {
     "duration": null,
     "end_time": null,
     "exception": null,
     "start_time": null,
     "status": "pending"
    },
    "tags": []
   },
   "source": [
    "**Pandas & Matplotlib**"
   ]
  },
  {
   "cell_type": "code",
   "execution_count": null,
   "id": "d5b28290",
   "metadata": {
    "execution": {
     "iopub.execute_input": "2022-03-29T04:12:17.613225Z",
     "iopub.status.busy": "2022-03-29T04:12:17.612903Z",
     "iopub.status.idle": "2022-03-29T04:12:17.682418Z",
     "shell.execute_reply": "2022-03-29T04:12:17.681713Z",
     "shell.execute_reply.started": "2022-03-29T04:12:17.613187Z"
    },
    "papermill": {
     "duration": null,
     "end_time": null,
     "exception": null,
     "start_time": null,
     "status": "pending"
    },
    "tags": []
   },
   "outputs": [],
   "source": [
    "# reading the data\n",
    "data = pd.read_csv('../input/california-housing-prices/housing.csv')"
   ]
  },
  {
   "cell_type": "code",
   "execution_count": null,
   "id": "a0c1cb12",
   "metadata": {
    "execution": {
     "iopub.execute_input": "2022-03-29T04:12:17.683949Z",
     "iopub.status.busy": "2022-03-29T04:12:17.683317Z",
     "iopub.status.idle": "2022-03-29T04:12:17.706435Z",
     "shell.execute_reply": "2022-03-29T04:12:17.705795Z",
     "shell.execute_reply.started": "2022-03-29T04:12:17.683913Z"
    },
    "papermill": {
     "duration": null,
     "end_time": null,
     "exception": null,
     "start_time": null,
     "status": "pending"
    },
    "tags": []
   },
   "outputs": [],
   "source": [
    "# display first 5 rows\n",
    "data.head()"
   ]
  },
  {
   "cell_type": "code",
   "execution_count": null,
   "id": "435cca96",
   "metadata": {
    "execution": {
     "iopub.execute_input": "2022-03-29T04:12:17.708076Z",
     "iopub.status.busy": "2022-03-29T04:12:17.707677Z",
     "iopub.status.idle": "2022-03-29T04:12:17.755236Z",
     "shell.execute_reply": "2022-03-29T04:12:17.75465Z",
     "shell.execute_reply.started": "2022-03-29T04:12:17.708046Z"
    },
    "papermill": {
     "duration": null,
     "end_time": null,
     "exception": null,
     "start_time": null,
     "status": "pending"
    },
    "tags": []
   },
   "outputs": [],
   "source": [
    "data.describe()"
   ]
  },
  {
   "cell_type": "code",
   "execution_count": null,
   "id": "148ec085",
   "metadata": {
    "execution": {
     "iopub.execute_input": "2022-03-29T04:12:17.756927Z",
     "iopub.status.busy": "2022-03-29T04:12:17.756506Z",
     "iopub.status.idle": "2022-03-29T04:12:17.765943Z",
     "shell.execute_reply": "2022-03-29T04:12:17.765166Z",
     "shell.execute_reply.started": "2022-03-29T04:12:17.756896Z"
    },
    "papermill": {
     "duration": null,
     "end_time": null,
     "exception": null,
     "start_time": null,
     "status": "pending"
    },
    "tags": []
   },
   "outputs": [],
   "source": [
    "data.count()"
   ]
  },
  {
   "cell_type": "code",
   "execution_count": null,
   "id": "a8269524",
   "metadata": {
    "execution": {
     "iopub.execute_input": "2022-03-29T04:12:17.767516Z",
     "iopub.status.busy": "2022-03-29T04:12:17.76711Z",
     "iopub.status.idle": "2022-03-29T04:12:17.778578Z",
     "shell.execute_reply": "2022-03-29T04:12:17.777673Z",
     "shell.execute_reply.started": "2022-03-29T04:12:17.767486Z"
    },
    "papermill": {
     "duration": null,
     "end_time": null,
     "exception": null,
     "start_time": null,
     "status": "pending"
    },
    "tags": []
   },
   "outputs": [],
   "source": [
    "# display NaN values\n",
    "data.isna().sum()"
   ]
  },
  {
   "cell_type": "code",
   "execution_count": null,
   "id": "2078b750",
   "metadata": {
    "execution": {
     "iopub.execute_input": "2022-03-29T04:12:17.780768Z",
     "iopub.status.busy": "2022-03-29T04:12:17.7803Z",
     "iopub.status.idle": "2022-03-29T04:12:17.789731Z",
     "shell.execute_reply": "2022-03-29T04:12:17.788559Z",
     "shell.execute_reply.started": "2022-03-29T04:12:17.780726Z"
    },
    "papermill": {
     "duration": null,
     "end_time": null,
     "exception": null,
     "start_time": null,
     "status": "pending"
    },
    "tags": []
   },
   "outputs": [],
   "source": [
    "data.total_rooms[:10]"
   ]
  },
  {
   "cell_type": "code",
   "execution_count": null,
   "id": "b0f922c7",
   "metadata": {
    "execution": {
     "iopub.execute_input": "2022-03-29T04:12:17.793102Z",
     "iopub.status.busy": "2022-03-29T04:12:17.792699Z",
     "iopub.status.idle": "2022-03-29T04:12:17.80449Z",
     "shell.execute_reply": "2022-03-29T04:12:17.803436Z",
     "shell.execute_reply.started": "2022-03-29T04:12:17.793057Z"
    },
    "papermill": {
     "duration": null,
     "end_time": null,
     "exception": null,
     "start_time": null,
     "status": "pending"
    },
    "tags": []
   },
   "outputs": [],
   "source": [
    "# select a specific row\n",
    "data.iloc[2]"
   ]
  },
  {
   "cell_type": "code",
   "execution_count": null,
   "id": "b14da568",
   "metadata": {
    "execution": {
     "iopub.execute_input": "2022-03-29T04:12:17.806534Z",
     "iopub.status.busy": "2022-03-29T04:12:17.806025Z",
     "iopub.status.idle": "2022-03-29T04:12:17.839873Z",
     "shell.execute_reply": "2022-03-29T04:12:17.839047Z",
     "shell.execute_reply.started": "2022-03-29T04:12:17.80649Z"
    },
    "papermill": {
     "duration": null,
     "end_time": null,
     "exception": null,
     "start_time": null,
     "status": "pending"
    },
    "tags": []
   },
   "outputs": [],
   "source": [
    "data.sort_values('total_rooms')"
   ]
  },
  {
   "cell_type": "code",
   "execution_count": null,
   "id": "a86531fd",
   "metadata": {
    "execution": {
     "iopub.execute_input": "2022-03-29T04:12:17.841349Z",
     "iopub.status.busy": "2022-03-29T04:12:17.84104Z",
     "iopub.status.idle": "2022-03-29T04:12:17.848958Z",
     "shell.execute_reply": "2022-03-29T04:12:17.848075Z",
     "shell.execute_reply.started": "2022-03-29T04:12:17.841317Z"
    },
    "papermill": {
     "duration": null,
     "end_time": null,
     "exception": null,
     "start_time": null,
     "status": "pending"
    },
    "tags": []
   },
   "outputs": [],
   "source": [
    "data.total_rooms.unique()"
   ]
  },
  {
   "cell_type": "code",
   "execution_count": null,
   "id": "decd3631",
   "metadata": {
    "execution": {
     "iopub.execute_input": "2022-03-29T04:12:17.850434Z",
     "iopub.status.busy": "2022-03-29T04:12:17.850063Z",
     "iopub.status.idle": "2022-03-29T04:12:17.884085Z",
     "shell.execute_reply": "2022-03-29T04:12:17.883348Z",
     "shell.execute_reply.started": "2022-03-29T04:12:17.850394Z"
    },
    "papermill": {
     "duration": null,
     "end_time": null,
     "exception": null,
     "start_time": null,
     "status": "pending"
    },
    "tags": []
   },
   "outputs": [],
   "source": [
    "# display correlation matrix\n",
    "data.corr()"
   ]
  },
  {
   "cell_type": "code",
   "execution_count": null,
   "id": "4f02294d",
   "metadata": {
    "execution": {
     "iopub.execute_input": "2022-03-29T04:12:17.885491Z",
     "iopub.status.busy": "2022-03-29T04:12:17.885281Z",
     "iopub.status.idle": "2022-03-29T04:12:17.891375Z",
     "shell.execute_reply": "2022-03-29T04:12:17.890558Z",
     "shell.execute_reply.started": "2022-03-29T04:12:17.885465Z"
    },
    "papermill": {
     "duration": null,
     "end_time": null,
     "exception": null,
     "start_time": null,
     "status": "pending"
    },
    "tags": []
   },
   "outputs": [],
   "source": [
    "cols = data.columns\n",
    "cols"
   ]
  },
  {
   "cell_type": "code",
   "execution_count": null,
   "id": "768a87c2",
   "metadata": {
    "execution": {
     "iopub.execute_input": "2022-03-29T04:12:17.893483Z",
     "iopub.status.busy": "2022-03-29T04:12:17.892743Z",
     "iopub.status.idle": "2022-03-29T04:12:18.317694Z",
     "shell.execute_reply": "2022-03-29T04:12:18.317077Z",
     "shell.execute_reply.started": "2022-03-29T04:12:17.893447Z"
    },
    "papermill": {
     "duration": null,
     "end_time": null,
     "exception": null,
     "start_time": null,
     "status": "pending"
    },
    "tags": []
   },
   "outputs": [],
   "source": [
    "plt.matshow(data.corr())\n",
    "plt.xticks(list(range(len(cols))), cols, rotation='vertical')\n",
    "plt.yticks(list(range(len(cols))), cols, rotation='horizontal')\n",
    "plt.colorbar()"
   ]
  },
  {
   "cell_type": "code",
   "execution_count": null,
   "id": "edb8096c",
   "metadata": {
    "execution": {
     "iopub.execute_input": "2022-03-29T04:12:18.319728Z",
     "iopub.status.busy": "2022-03-29T04:12:18.318866Z",
     "iopub.status.idle": "2022-03-29T04:12:18.633038Z",
     "shell.execute_reply": "2022-03-29T04:12:18.632229Z",
     "shell.execute_reply.started": "2022-03-29T04:12:18.319686Z"
    },
    "papermill": {
     "duration": null,
     "end_time": null,
     "exception": null,
     "start_time": null,
     "status": "pending"
    },
    "tags": []
   },
   "outputs": [],
   "source": [
    "data.plot.box()"
   ]
  },
  {
   "cell_type": "code",
   "execution_count": null,
   "id": "38fea816",
   "metadata": {
    "execution": {
     "iopub.execute_input": "2022-03-29T04:12:18.634436Z",
     "iopub.status.busy": "2022-03-29T04:12:18.634177Z",
     "iopub.status.idle": "2022-03-29T04:12:18.883067Z",
     "shell.execute_reply": "2022-03-29T04:12:18.882096Z",
     "shell.execute_reply.started": "2022-03-29T04:12:18.634405Z"
    },
    "papermill": {
     "duration": null,
     "end_time": null,
     "exception": null,
     "start_time": null,
     "status": "pending"
    },
    "tags": []
   },
   "outputs": [],
   "source": [
    "plt.plot(data.total_rooms)"
   ]
  },
  {
   "cell_type": "code",
   "execution_count": null,
   "id": "ad101320",
   "metadata": {
    "execution": {
     "iopub.execute_input": "2022-03-29T04:12:18.884861Z",
     "iopub.status.busy": "2022-03-29T04:12:18.884635Z",
     "iopub.status.idle": "2022-03-29T04:12:19.111869Z",
     "shell.execute_reply": "2022-03-29T04:12:19.111005Z",
     "shell.execute_reply.started": "2022-03-29T04:12:18.884834Z"
    },
    "papermill": {
     "duration": null,
     "end_time": null,
     "exception": null,
     "start_time": null,
     "status": "pending"
    },
    "tags": []
   },
   "outputs": [],
   "source": [
    "plt.hist(data.total_rooms)"
   ]
  },
  {
   "cell_type": "code",
   "execution_count": null,
   "id": "00f83564",
   "metadata": {
    "execution": {
     "iopub.execute_input": "2022-03-29T04:12:19.114139Z",
     "iopub.status.busy": "2022-03-29T04:12:19.113363Z",
     "iopub.status.idle": "2022-03-29T04:12:20.358221Z",
     "shell.execute_reply": "2022-03-29T04:12:20.357303Z",
     "shell.execute_reply.started": "2022-03-29T04:12:19.114089Z"
    },
    "papermill": {
     "duration": null,
     "end_time": null,
     "exception": null,
     "start_time": null,
     "status": "pending"
    },
    "tags": []
   },
   "outputs": [],
   "source": [
    "data.plot()"
   ]
  },
  {
   "cell_type": "code",
   "execution_count": null,
   "id": "fc2ad121",
   "metadata": {
    "execution": {
     "iopub.execute_input": "2022-03-29T04:12:20.359675Z",
     "iopub.status.busy": "2022-03-29T04:12:20.359429Z",
     "iopub.status.idle": "2022-03-29T04:12:22.557211Z",
     "shell.execute_reply": "2022-03-29T04:12:22.556238Z",
     "shell.execute_reply.started": "2022-03-29T04:12:20.359645Z"
    },
    "papermill": {
     "duration": null,
     "end_time": null,
     "exception": null,
     "start_time": null,
     "status": "pending"
    },
    "tags": []
   },
   "outputs": [],
   "source": [
    "data.plot(subplots=True, figsize=(9,9))"
   ]
  }
 ],
 "metadata": {
  "kernelspec": {
   "display_name": "Python 3",
   "language": "python",
   "name": "python3"
  },
  "language_info": {
   "codemirror_mode": {
    "name": "ipython",
    "version": 3
   },
   "file_extension": ".py",
   "mimetype": "text/x-python",
   "name": "python",
   "nbconvert_exporter": "python",
   "pygments_lexer": "ipython3",
   "version": "3.7.12"
  },
  "papermill": {
   "default_parameters": {},
   "duration": 13.414298,
   "end_time": "2022-04-16T17:07:34.853682",
   "environment_variables": {},
   "exception": true,
   "input_path": "__notebook__.ipynb",
   "output_path": "__notebook__.ipynb",
   "parameters": {},
   "start_time": "2022-04-16T17:07:21.439384",
   "version": "2.3.3"
  }
 },
 "nbformat": 4,
 "nbformat_minor": 5
}
